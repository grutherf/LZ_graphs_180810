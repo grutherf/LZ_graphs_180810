{
 "cells": [
  {
   "cell_type": "markdown",
   "metadata": {},
   "source": [
    "<h1> Notebook setup </h1>"
   ]
  },
  {
   "cell_type": "code",
   "execution_count": 8,
   "metadata": {
    "collapsed": false
   },
   "outputs": [
    {
     "name": "stdout",
     "output_type": "stream",
     "text": [
      "Populating the interactive namespace from numpy and matplotlib\n"
     ]
    }
   ],
   "source": [
    "from __future__ import division\n",
    "import sys\n",
    "loc_dir=!pwd\n",
    "sys.path.insert(2,loc_dir[0]+'/../') #add path to import libNEST... step back one level\n",
    "import libNEST\n",
    "import pandas as pd\n",
    "import scipy.interpolate as ip\n",
    "import scipy.io as sio\n",
    "%pylab inline\n",
    "pylab.rcParams['figure.figsize'] = (10.0, 8.0) # set size of figures\"\n",
    "plt.rcParams.update({'font.size': 18})\n",
    "\n",
    "#Need to add this to make Skin Response maps load in\n",
    "import os\n",
    "os.environ['NESTPATH']=loc_dir[0]+'/../'\n",
    "#os.environ['NESTDATA']=loc_dir[0]+'/../../LCEAndEFieldMaps/'\n",
    "os.environ['NESTDATA']='/cvmfs/lz.opensciencegrid.org/fastNEST/LCEAndFieldMaps/'"
   ]
  },
  {
   "cell_type": "markdown",
   "metadata": {},
   "source": [
    "<h1> Setup LZ detector and generate response </h1>"
   ]
  },
  {
   "cell_type": "code",
   "execution_count": null,
   "metadata": {
    "collapsed": false
   },
   "outputs": [],
   "source": [
    "NEST=libNEST.NEST(0,10,-1,2.88,-1) #PT, Energy, EField, density, dT\n",
    "myDet=libNEST.Detector()\n",
    "myDet.LZSettings()\n",
    "NEST.SetDetectorParameters(myDet)\n",
    "#print('Energy, S1c, S2c, DriftLocation(us), ElectricField (V/cm)')\n",
    "#for En in arange(1,10,1):\n",
    "#    NEST.SetEnergy(En)\n",
    "#    NEST.DetectorResponse()\n",
    "#    print(NEST.GetS1c(),NEST.GetS2c(),NEST.GetS2(), NEST.GetDriftLocation(), NEST.GetElectricField())\n",
    "#    #NEST.SetDriftLocation(100)\n",
    "#    #NEST.SetElectricField(100)"
   ]
  },
  {
   "cell_type": "markdown",
   "metadata": {},
   "source": [
    "<h1> Skin response </h1>"
   ]
  },
  {
   "cell_type": "code",
   "execution_count": null,
   "metadata": {
    "collapsed": false,
    "scrolled": true
   },
   "outputs": [],
   "source": [
    "NEST=libNEST.NEST(1,10,-1,2.88,-1) #PT, Energy, EField, density, dT\n",
    "myDet=libNEST.Detector()\n",
    "myDet.LZSettings()\n",
    "NEST.SetDetectorParameters(myDet)\n",
    "print('Energy, S1c, S2c, DriftLocation(us), ElectricField (V/cm)')\n",
    "for En in arange(500,550,1):\n",
    "    NEST.SetEnergy(En)\n",
    "    NEST.DetectorResponse()\n",
    "    print(NEST.GetS1c(),NEST.GetS2c(), NEST.GetDriftLocation(), NEST.GetElectricField())\n",
    "    NEST.SkinResponse(77,60)\n",
    "    print(NEST.GetEnergy(), NEST.GetS1(), NEST.GetSkinPDE(), NEST.GetSkinEField())\n",
    "    #NEST.SetDriftLocation(100)\n",
    "    #NEST.SetElectricField(100)"
   ]
  },
  {
   "cell_type": "code",
   "execution_count": null,
   "metadata": {
    "collapsed": true
   },
   "outputs": [],
   "source": []
  }
 ],
 "metadata": {
  "kernelspec": {
   "display_name": "rootnb",
   "language": "python",
   "name": "rootnb"
  },
  "language_info": {
   "codemirror_mode": {
    "name": "ipython",
    "version": 2
   },
   "file_extension": ".py",
   "mimetype": "text/x-python",
   "name": "python",
   "nbconvert_exporter": "python",
   "pygments_lexer": "ipython2",
   "version": "2.7.11"
  }
 },
 "nbformat": 4,
 "nbformat_minor": 0
}
