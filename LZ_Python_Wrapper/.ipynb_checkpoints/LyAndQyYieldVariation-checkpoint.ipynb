{
 "cells": [
  {
   "cell_type": "code",
   "execution_count": 52,
   "metadata": {},
   "outputs": [],
   "source": [
    "import nest_py_interfaceBothp10\n",
    "import nest_py_interfaceBothm10\n",
    "import nest_py_interfaceBothp20\n",
    "import nest_py_interfaceBothm20\n",
    "\n",
    "import nest_py_interfaceLyp10\n",
    "import nest_py_interfaceLym10\n",
    "import nest_py_interfaceLyp20\n",
    "import nest_py_interfaceLym20\n",
    "\n",
    "import nest_python_interfaceQyp10\n",
    "import nest_py_interfaceQym10\n",
    "import nest_py_interfaceQyp20\n",
    "import nest_py_interfaceQym20\n",
    "\n",
    "import nest_python_interface\n",
    "\n",
    "npwBothp10 = nest_py_interfaceBothp10.nest_py_wrapper_std()\n",
    "npwBothm10 = nest_py_interfaceBothm10.nest_py_wrapper_std()\n",
    "npwBothp20 = nest_py_interfaceBothp20.nest_py_wrapper_std()\n",
    "npwBothm20 = nest_py_interfaceBothm20.nest_py_wrapper_std()\n",
    "\n",
    "npwLyp10 = nest_py_interfaceLyp10.nest_py_wrapper_std()\n",
    "npwLym10 = nest_py_interfaceLym10.nest_py_wrapper_std()\n",
    "npwLym20 = nest_py_interfaceLyp20.nest_py_wrapper_std()\n",
    "npwLyp20 = nest_py_interfaceLym20.nest_py_wrapper_std()\n",
    "\n",
    "npwQyp10 = nest_python_interfaceQyp10.nest_py_wrapper_std()\n",
    "npwQym10 = nest_py_interfaceQym10.nest_py_wrapper_std()\n",
    "npwQyp20 = nest_py_interfaceQyp20.nest_py_wrapper_std()\n",
    "npwQym20 = nest_py_interfaceQym20.nest_py_wrapper_std()\n",
    "\n",
    "npw = nest_python_interface.nest_py_wrapper_std()\n",
    "\n",
    "exposure = 5600 * 1000\n",
    "result = npw.testNEST([str(exposure), '8B','0','4','310','-1','1'])\n",
    "\n",
    "resultBothp10 = npw.testNEST([str(exposure), '8B','0','4','310','-1','1'])\n",
    "resultBothm10 = npw.testNEST([str(exposure), '8B','0','4','310','-1','1'])\n",
    "resultBothp20 = npw.testNEST([str(exposure), '8B','0','4','310','-1','1'])\n",
    "resultBothm20 = npw.testNEST([str(exposure), '8B','0','4','310','-1','1'])\n",
    "\n",
    "resultLyp10 = npw.testNEST([str(exposure), '8B','0','4','310','-1','1'])\n",
    "resultLym10 = npw.testNEST([str(exposure), '8B','0','4','310','-1','1'])\n",
    "resultLyp20 = npw.testNEST([str(exposure), '8B','0','4','310','-1','1'])\n",
    "resultLym20 = npw.testNEST([str(exposure), '8B','0','4','310','-1','1'])\n",
    "\n",
    "resultQyp10 = npw.testNEST([str(exposure), '8B','0','4','310','-1','1'])\n",
    "resultQym10 = npw.testNEST([str(exposure), '8B','0','4','310','-1','1'])\n",
    "resultQyp20 = npw.testNEST([str(exposure), '8B','0','4','310','-1','1'])\n",
    "resultQym20 = npw.testNEST([str(exposure), '8B','0','4','310','-1','1'])\n"
   ]
  },
  {
   "cell_type": "code",
   "execution_count": 53,
   "metadata": {},
   "outputs": [
    {
     "name": "stdout",
     "output_type": "stream",
     "text": [
      "[27, 27, 27, 27, 27]\n"
     ]
    },
    {
     "data": {
      "image/png": "[encoded data removed]",
      "text/plain": [
       "<Figure size 432x288 with 1 Axes>"
      ]
     },
     "metadata": {},
     "output_type": "display_data"
    }
   ],
   "source": [
    "import matplotlib.pyplot as plt\n",
    "\n",
    "numEvAfterCuts = len(np.intersect1d(np.where(np.array(result.s1_n_hits) >=3) ,\n",
    "                                    np.where(np.array(result.s2_raw_area_phd) >= 415)))\n",
    "\n",
    "numEvAfterCutsQyp10 = len(np.intersect1d(np.where(np.array(resultQyp10.s1_n_hits) >=3) ,\n",
    "                                         np.where(np.array(resultQyp10.s2_raw_area_phd) >= 415)))\n",
    "numEvAfterCutsQyp20 = len(np.intersect1d(np.where(np.array(resultQyp20.s1_n_hits) >=3) ,\n",
    "                                         np.where(np.array(resultQyp20.s2_raw_area_phd) >= 415)))\n",
    "numEvAfterCutsQym10 = len(np.intersect1d(np.where(np.array(resultQym10.s1_n_hits) >=3) ,\n",
    "                                         np.where(np.array(resultQym10.s2_raw_area_phd) >= 415)))\n",
    "numEvAfterCutsQym20 = len(np.intersect1d(np.where(np.array(resultQym20.s1_n_hits) >=3) ,\n",
    "                                         np.where(np.array(resultQym20.s2_raw_area_phd) >= 415)))\n",
    "\n",
    "numEvAfterCutsLyp10 = len(np.intersect1d(np.where(np.array(resultLyp10.s1_n_hits) >=3) ,\n",
    "                                         np.where(np.array(resultLyp10.s2_raw_area_phd) >= 415)))\n",
    "numEvAfterCutsLyp20 = len(np.intersect1d(np.where(np.array(resultLyp20.s1_n_hits) >=3) ,\n",
    "                                         np.where(np.array(resultLyp20.s2_raw_area_phd) >= 415)))\n",
    "numEvAfterCutsLym10 = len(np.intersect1d(np.where(np.array(resultLym10.s1_n_hits) >=3) ,\n",
    "                                         np.where(np.array(resultLym10.s2_raw_area_phd) >= 415)))\n",
    "numEvAfterCutsLym20 = len(np.intersect1d(np.where(np.array(resultLym20.s1_n_hits) >=3) ,\n",
    "                                         np.where(np.array(resultLym20.s2_raw_area_phd) >= 415)))\n",
    "\n",
    "numEvAfterCutsBothp10 = len(np.intersect1d(np.where(np.array(resultBothp10.s1_n_hits) >=3) ,\n",
    "                                           np.where(np.array(resultBothp10.s2_raw_area_phd) >= 415)))\n",
    "numEvAfterCutsBothp20 = len(np.intersect1d(np.where(np.array(resultBothp20.s1_n_hits) >=3) ,\n",
    "                                           np.where(np.array(resultBothp20.s2_raw_area_phd) >= 415)))\n",
    "numEvAfterCutsBothm10 = len(np.intersect1d(np.where(np.array(resultBothm10.s1_n_hits) >=3) ,\n",
    "                                           np.where(np.array(resultBothm10.s2_raw_area_phd) >= 415)))\n",
    "numEvAfterCutsBothm20 = len(np.intersect1d(np.where(np.array(resultBothm20.s1_n_hits) >=3) ,\n",
    "                                           np.where(np.array(resultBothm20.s2_raw_area_phd) >= 415)))\n",
    "\n",
    "scaling = [.8, .9, 1, 1.1, 1.2]\n",
    "\n",
    "Qyevents = [numEvAfterCutsQym20,numEvAfterCutsQym10,numEvAfterCuts,numEvAfterCutsQyp10,numEvAfterCutsQyp20]\n",
    "\n",
    "Lyevents = [numEvAfterCutsLym10,numEvAfterCutsLym10,numEvAfterCuts,numEvAfterCutsLyp10,numEvAfterCutsLyp20]\n",
    "\n",
    "Bothevents = [numEvAfterCutsBothm20,numEvAfterCutsBothm10,numEvAfterCuts,numEvAfterCutsBothp10,numEvAfterCutsBothp20]\n",
    "print(Qyevents)\n",
    "#plt.plot(scaling,Qyevents,scaling,Lyevents,scaling,Bothevents)\n",
    "plt.plot(scaling,Qyevents)\n",
    "plt.xlabel('yield scaling')\n",
    "plt.ylabel('8B events passing cut')\n",
    "plt.yscale('log')\n",
    "plt.xscale('log')\n",
    "plt.title('NR Charge Yield Scaling vs 8B Event Rates (raw signals)')\n",
    "plt.show()\n"
   ]
  },
  {
   "cell_type": "code",
   "execution_count": null,
   "metadata": {},
   "outputs": [],
   "source": []
  }
 ],
 "metadata": {
  "kernelspec": {
   "display_name": "Python 3",
   "language": "python",
   "name": "python3"
  },
  "language_info": {
   "codemirror_mode": {
    "name": "ipython",
    "version": 3
   },
   "file_extension": ".py",
   "mimetype": "text/x-python",
   "name": "python",
   "nbconvert_exporter": "python",
   "pygments_lexer": "ipython3",
   "version": "3.6.5"
  }
 },
 "nbformat": 4,
 "nbformat_minor": 2
}
