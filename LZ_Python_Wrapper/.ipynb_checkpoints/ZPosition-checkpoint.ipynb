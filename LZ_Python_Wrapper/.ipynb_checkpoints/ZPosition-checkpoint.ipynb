{
 "cells": [
  {
   "cell_type": "code",
   "execution_count": null,
   "metadata": {},
   "outputs": [],
   "source": [
    "import nest_py_interface\n",
    "import numpy as np\n",
    "import matplotlib.pyplot as plt\n",
    "\n",
    "npw = nest_py_interface.nest_py_wrapper_std()\n",
    "npw.print_result_or_not(0)\n",
    "numSims = 100\n",
    "exposure = 5600 * 1000 * exposure\n",
    "results = npw.testNEST([str(exposure),'8B','0','4' ,'310', '-1', '1'])\n",
    "s1_hit = np.absolute(results.s1_n_hits)\n",
    "s2_RAphd = np.absolute(results.s2_raw_area_phd)\n",
    "\n",
    "zpos = np.array(results.pos_z_mm)\n",
    "#z positions with only s1 cut\n",
    "zS1Cut = zpos[s1_hit >= 3]\n",
    "edges = np.linspace(min(zS1Cut), max(zS1Cut), 20, endpoint = True)\n",
    "#what is happening here?\n",
    "edges = np.array([min(zS1Cut) - (max(zS1Cut) - min(zS1Cut))/20] + edges.tolist())\n",
    "print(edges)\n",
    "#histogram of s1 only cut\n",
    "histS1data, whatAreBins = np.histogram(zS1Cut, edges)\n",
    "\n",
    "zS1S2Cut = zpos[(s1_hit >= 3) & (s2_RAphd >= 415)]\n",
    "#histogram of s1 only cut\n",
    "histS1S2data = np.histogram(zS1S2Cut, edges)[0]\n"
   ]
  },
  {
   "cell_type": "code",
   "execution_count": null,
   "metadata": {},
   "outputs": [],
   "source": [
    "edge_centers = (edges[:-1] + edges[1:]) / 2\n",
    "\n",
    "#no cut plot\n",
    "plt.figure(0)\n",
    "plt.step(edge_centers, histS1data,where = 'mid')\n",
    "plt.xlabel('Z-position (mm)')\n",
    "plt.ylabel('Counts per bin')\n",
    "plt.title('Hist of events with S1>=3 hit no S2 cut, 5600*1000*100 kg*days')\n",
    "plt.yscale('log')\n",
    "plt.ylim([numSims, 10*numSims])\n",
    "plt.xlim([0,1400])\n",
    "plt.grid(True,which='both',linewidth=.5)\n",
    "\n",
    "#s2 cut plot\n",
    "plt.figure(1)\n",
    "plt.step(edge_centers, histS1S2data,where = 'mid')\n",
    "plt.xlabel('Z-position (mm)')\n",
    "plt.ylabel('Counts per bin')\n",
    "plt.title('Hist of events with S1>=3 hit and S2 >= 415, 5600*1000*100 kg*days')\n",
    "plt.yscale('log')\n",
    "plt.ylim([numSims, 10*numSims])\n",
    "plt.xlim([0,1400])\n",
    "plt.grid(True,which='both',linewidth=.5)\n"
   ]
  },
  {
   "cell_type": "code",
   "execution_count": null,
   "metadata": {},
   "outputs": [],
   "source": []
  }
 ],
 "metadata": {
  "kernelspec": {
   "display_name": "Python 3",
   "language": "python",
   "name": "python3"
  },
  "language_info": {
   "codemirror_mode": {
    "name": "ipython",
    "version": 3
   },
   "file_extension": ".py",
   "mimetype": "text/x-python",
   "name": "python",
   "nbconvert_exporter": "python",
   "pygments_lexer": "ipython3",
   "version": "3.6.5"
  }
 },
 "nbformat": 4,
 "nbformat_minor": 2
}
