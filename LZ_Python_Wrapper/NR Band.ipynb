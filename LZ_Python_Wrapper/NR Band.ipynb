{
 "cells": [
  {
   "cell_type": "code",
   "execution_count": 1,
   "metadata": {},
   "outputs": [],
   "source": [
    "#%%capture\n",
    "#!rm nest_py_interface.cpython-36m-darwin.so\n",
    "#!python setup.py build_ext --inplace"
   ]
  },
  {
   "cell_type": "code",
   "execution_count": 2,
   "metadata": {},
   "outputs": [],
   "source": [
    "import nest_py_interface\n",
    "import numpy as np\n",
    "npw = nest_py_interface.nest_py_wrapper_std()\n",
    "npw.print_result_or_not(0)\n",
    "#run 1,000,000 background events\n",
    "results = npw.testNEST(['1000000','NR','0','50', '310', '-1', '1'])\n",
    "#take absolute value of all events\n",
    "s1_hits = np.absolute(results.s1_n_hits)\n",
    "s2_raw_phd = np.absolute(results.s2_raw_area_phd)\n",
    "s1cphd = np.absolute(results.s1c_area_phd)\n",
    "s2cphd = np.absolute(results.s2c_area_phd)"
   ]
  },
  {
   "cell_type": "code",
   "execution_count": 3,
   "metadata": {},
   "outputs": [
    {
     "data": {
      "text/plain": [
       "<Figure size 640x480 with 1 Axes>"
      ]
     },
     "metadata": {},
     "output_type": "display_data"
    },
    {
     "data": {
      "text/plain": [
       "<Figure size 640x480 with 1 Axes>"
      ]
     },
     "metadata": {},
     "output_type": "display_data"
    },
    {
     "data": {
      "text/plain": [
       "<Figure size 640x480 with 1 Axes>"
      ]
     },
     "metadata": {},
     "output_type": "display_data"
    },
    {
     "data": {
      "text/plain": [
       "<Figure size 640x480 with 1 Axes>"
      ]
     },
     "metadata": {},
     "output_type": "display_data"
    },
    {
     "data": {
      "text/plain": [
       "<Figure size 640x480 with 1 Axes>"
      ]
     },
     "metadata": {},
     "output_type": "display_data"
    },
    {
     "data": {
      "text/plain": [
       "<Figure size 640x480 with 1 Axes>"
      ]
     },
     "metadata": {},
     "output_type": "display_data"
    },
    {
     "data": {
      "text/plain": [
       "<Figure size 640x480 with 1 Axes>"
      ]
     },
     "metadata": {},
     "output_type": "display_data"
    },
    {
     "data": {
      "text/plain": [
       "<Figure size 640x480 with 1 Axes>"
      ]
     },
     "metadata": {},
     "output_type": "display_data"
    }
   ],
   "source": [
    "import matplotlib.pyplot as plt\n",
    "from scipy.stats import norm\n",
    "\n",
    "s1CutIndicies = np.where(s1_hits >= 3)\n",
    "s2CutIndicies = np.where(s2_raw_phd >= 415)\n",
    "#indices that satisfy both requirements\n",
    "cuts = np.intersect1d(s1CutIndicies,s2CutIndicies)\n",
    "#the corrected s1 and s2 values at indices that satisfy both conditions\n",
    "s1cCut = np.take(s1cphd,cuts)\n",
    "s2cCut = np.take(s2cphd, cuts)\n",
    "#edges for the bin\n",
    "edges = np.arange(.3,9,1)\n",
    "\n",
    "#cannot use numpy array because the matrix will not be rectangular\n",
    "bins = [None] * (len(edges)-1)\n",
    "#mean of each bin, assuming normal dist\n",
    "means = np.zeros([len(edges)-1])\n",
    "#sigma of each bin, assuming normal dist\n",
    "sigmas = np.zeros([len(edges)-1])\n",
    "\n",
    "for i in range(0,len(edges)-1):#check endpoint\n",
    "    #get the s2 values whose corresponding s1 values are within the bin\n",
    "    toBinI = s2cCut[(s1cCut >= edges[i])&(s1cCut <= edges[i+1])]\n",
    "    bins[i] = np.log10(toBinI)\n",
    "    plt.figure(i)\n",
    "    plt.hist(bins[i], 60)\n",
    "    plt.xlim([2,5])\n",
    "    \n",
    "    mu, std = norm.fit(bins[i]); means[i] = mu; sigmas[i] = std\n",
    "    #draws normal dist\n",
    "    \"\"\"\n",
    "    x = np.linspace(2,5, 100)\n",
    "    p = norm.pdf(x, mu, std)\n",
    "    plt.plot(x, p, 'k', linewidth=2)\n",
    "    \"\"\"\n",
    "plt.show()"
   ]
  },
  {
   "cell_type": "code",
   "execution_count": 4,
   "metadata": {},
   "outputs": [],
   "source": [
    "s1Bin = np.arange(.8, 7.8, 1)\n",
    "s1Band = np.arange(.7, 6.01, .01)\n",
    "\n",
    "#creating mean band and mean +- sigma bands\n",
    "s2Band = np.interp(s1Band, s1Bin, means[:len(means)-1])\n",
    "s2Bandp = np.interp(s1Band, s1Bin, means[:len(means)-1] + sigmas[:len(sigmas)-1])\n",
    "s2Bandm = np.interp(s1Band, s1Bin, means[:len(means)-1] - sigmas[:len(sigmas)-1])"
   ]
  },
  {
   "cell_type": "code",
   "execution_count": 5,
   "metadata": {},
   "outputs": [],
   "source": [
    "#get 8B results\n",
    "B8Results = npw.testNEST(['56000000', '8B','0','4','310','-1','1'])\n",
    "B8nHits = np.absolute(B8Results.s1_n_hits)\n",
    "B8rawAphd = np.absolute(B8Results.s2_raw_area_phd)\n",
    "#8B points that will be graphed\n",
    "s1_selected = np.absolute(B8Results.s1c_area_phd)[(B8nHits >= 3) & (B8rawAphd >= 415)]\n",
    "s2_selected = np.absolute(B8Results.s2c_area_phd)[(B8nHits >= 3) & (B8rawAphd >= 415)]\n"
   ]
  },
  {
   "cell_type": "code",
   "execution_count": 6,
   "metadata": {},
   "outputs": [
    {
     "data": {
      "text/plain": [
       "Text(0.5,1,'S2/S1 scatter for LZ exposure')"
      ]
     },
     "execution_count": 6,
     "metadata": {},
     "output_type": "execute_result"
    },
    {
     "data": {
      "image/png": "[encoded data removed]",
      "text/plain": [
       "<Figure size 432x288 with 1 Axes>"
      ]
     },
     "metadata": {},
     "output_type": "display_data"
    }
   ],
   "source": [
    "#pick random 8B results and draw them\n",
    "inde = np.random.permutation(len(s1_selected));\n",
    "#why only 48?\n",
    "inde = inde[0:47];\n",
    "plt.scatter(s1_selected[inde],np.log10(s2_selected[inde]), marker = '.')\n",
    "plt.plot(s1Band, s2Band, 'r-')\n",
    "plt.plot(s1Band,s2Bandp, 'r--')\n",
    "plt.plot(s1Band,s2Bandm, 'r--')\n",
    "plt.ylim([2, 4.5])\n",
    "plt.xlim([0, 6.1])\n",
    "plt.xlabel('S1_c (phd)')\n",
    "plt.ylabel('log(S2_c) (phd)')\n",
    "plt.title('S2/S1 scatter for LZ exposure')"
   ]
  },
  {
   "cell_type": "code",
   "execution_count": null,
   "metadata": {},
   "outputs": [],
   "source": []
  }
 ],
 "metadata": {
  "kernelspec": {
   "display_name": "Python 3",
   "language": "python",
   "name": "python3"
  },
  "language_info": {
   "codemirror_mode": {
    "name": "ipython",
    "version": 3
   },
   "file_extension": ".py",
   "mimetype": "text/x-python",
   "name": "python",
   "nbconvert_exporter": "python",
   "pygments_lexer": "ipython3",
   "version": "3.6.5"
  }
 },
 "nbformat": 4,
 "nbformat_minor": 2
}
